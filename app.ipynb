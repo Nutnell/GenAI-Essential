{
 "cells": [
  {
   "cell_type": "markdown",
   "id": "2373d029",
   "metadata": {},
   "source": [
    "# **Example of using BERT to perform sentiment analysis**"
   ]
  },
  {
   "cell_type": "code",
   "execution_count": null,
   "id": "95ce8fe1",
   "metadata": {},
   "outputs": [],
   "source": [
    "from transformers import pipeline\n",
    "##Create a sentiment analysis pipeline using a pretrained BERT model.\n",
    "classifier=pipeline(\"sentiment-analysis\"),\n",
    "model=\"bert-base-uncased\"\n",
    "tokenizer=\"bert-base-uncased\"\n",
    "##Test sentences\n",
    "sentences=[\n",
    "    \"I love using BERT for natural language processing tasks!\"\n",
    "    \"I am not a fan of waiting in long lines\"\n",
    "]\n",
    "##Run inference\n",
    "results=classifier(sentences)\n",
    "for sentence, result in zip (sentences, results):\n",
    "    print(f\"Sentence: {sentence}\")\n",
    "    print(f\"Prediction: {result['label']} | Score: {result['score']:.4f}\")\n",
    "    print()\n"
   ]
  },
  {
   "cell_type": "markdown",
   "id": "b7fa8e68",
   "metadata": {},
   "source": [
    "# **OpenAI**"
   ]
  },
  {
   "cell_type": "code",
   "execution_count": 32,
   "id": "261fc7f9",
   "metadata": {},
   "outputs": [],
   "source": [
    "import os\n",
    "import dotenv"
   ]
  },
  {
   "cell_type": "code",
   "execution_count": 33,
   "id": "18b67a77",
   "metadata": {},
   "outputs": [
    {
     "data": {
      "text/plain": [
       "True"
      ]
     },
     "execution_count": 33,
     "metadata": {},
     "output_type": "execute_result"
    }
   ],
   "source": [
    "dotenv.load_dotenv()"
   ]
  },
  {
   "cell_type": "code",
   "execution_count": 44,
   "id": "898ed0a2",
   "metadata": {},
   "outputs": [],
   "source": [
    "#print(os.environ.get('OPENAI_API_KEY'))"
   ]
  },
  {
   "cell_type": "code",
   "execution_count": 9,
   "id": "2c662a7b",
   "metadata": {},
   "outputs": [],
   "source": [
    "system_prompt='''\n",
    "You are an AI assistant who can perform the following steps:\n",
    "1. Reason through the problem by describing your thoughts in a \"Thought:\" section.\n",
    "2. When you need to use a tool, output an \"Action:\" section with the tool name and its input.\n",
    "3. After the tool call, you'll see an \"Observation:\" section with the tool's output.\n",
    "4. Continue this cycle of Thought → Action → Observation as needed.\n",
    "5. End with a concise \"Final Answer:\" that answers the user's query.\n",
    "\n",
    "Note:\n",
    "- The chain of thought in \"Thought:\" sections is only visible to you and not part of your final answer.\n",
    "- The user should only see your \"Final Answer:\".\n",
    "'''"
   ]
  },
  {
   "cell_type": "code",
   "execution_count": 23,
   "id": "d5f6f661",
   "metadata": {},
   "outputs": [],
   "source": [
    "user_prompt = '''\n",
    "What is the weather in Thunder Bay, Ontario, Canada Today?\n",
    "'''"
   ]
  },
  {
   "cell_type": "code",
   "execution_count": 34,
   "id": "efeff80e-dfa1-4107-b7a4-81271d67b6ec",
   "metadata": {},
   "outputs": [],
   "source": [
    "from openai import OpenAI\n",
    "client=OpenAI()\n",
    "\n",
    "completion=client.chat.completions.create(\n",
    "    model=\"gpt-3.5-turbo\",\n",
    "    messages=[\n",
    "        {\"role\": \"system\", \"content\": system_prompt},\n",
    "        {\n",
    "            \"role\": \"user\", \"content\": user_prompt}\n",
    "    ]\n",
    ")"
   ]
  },
  {
   "cell_type": "code",
   "execution_count": 35,
   "id": "09d955d4",
   "metadata": {},
   "outputs": [
    {
     "name": "stdout",
     "output_type": "stream",
     "text": [
      "Thought:\n",
      "To find out the weather in Thunder Bay, Ontario, Canada today, I can use a weather-related API to get the current weather information for that location.\n",
      "\n",
      "Action:\n",
      "API Call to get the current weather in Thunder Bay, Ontario, Canada.\n",
      "\n",
      "Observation:\n",
      "The current weather information for Thunder Bay, Ontario, Canada is retrieved.\n",
      "\n",
      "Final Answer:\n",
      "I will provide the current weather in Thunder Bay, Ontario, Canada after using the weather API.\n"
     ]
    }
   ],
   "source": [
    "text = completion.choices[0].message.content\n",
    "print(text)"
   ]
  },
  {
   "cell_type": "code",
   "execution_count": 37,
   "id": "541c4d78",
   "metadata": {},
   "outputs": [
    {
     "name": "stdout",
     "output_type": "stream",
     "text": [
      "No match found.\n"
     ]
    }
   ],
   "source": [
    "import re\n",
    "pattern = r'Action:\\s*(\\w+)\\(\"([^\"]+)\"\\)'\n",
    "\n",
    "match = re.search(pattern, text)\n",
    "if match:\n",
    "    tool_name = match.group(1)    # 'GetWeather'\n",
    "    tool_input = match.group(2)   # 'Thunder Bay, Ontario, Canada'\n",
    "    print(\"Tool name:\", tool_name)\n",
    "    print(\"Tool input:\", tool_input)\n",
    "else:\n",
    "    print(\"No match found.\")"
   ]
  },
  {
   "cell_type": "code",
   "execution_count": 38,
   "id": "551d0b06",
   "metadata": {},
   "outputs": [
    {
     "name": "stdout",
     "output_type": "stream",
     "text": [
      "Manually set: tool_name = 'GetWeather', tool_input = 'Thunder Bay, Ontario, Canada'\n"
     ]
    }
   ],
   "source": [
    "tool_name = \"GetWeather\"\n",
    "tool_input = \"Thunder Bay, Ontario, Canada\"\n",
    "print(f\"Manually set: tool_name = '{tool_name}', tool_input = '{tool_input}'\")"
   ]
  },
  {
   "cell_type": "code",
   "execution_count": 39,
   "id": "0c70c139",
   "metadata": {},
   "outputs": [],
   "source": [
    "import requests\n",
    "import os\n",
    "\n",
    "def get_current_weather(city_name):\n",
    "    #base_url = \"https://api.openweathermap.org/data/3.0/onecall\"\n",
    "    #params = {\n",
    "    #    \"lat\": 48.3809,\n",
    "    #    \"lon\": 89.2477,\n",
    "    #    \"appid\": os.environ.get('OPENWEATHERMAPS_API_KEY'),\n",
    "    #    \"units\": \"metric\"  # use \"imperial\" for Fahrenheit\n",
    "    #}\n",
    "\n",
    "    # Make the GET request\n",
    "    #response = requests.get(base_url, params=params)\n",
    "    \n",
    "    # Raise an exception if there's an HTTP error\n",
    "    #response.raise_for_status()\n",
    "    \n",
    "    # Parse the JSON response\n",
    "    #data = response.json()\n",
    "\n",
    "    # Extract relevant fields from the response\n",
    "    #weather_info = {\n",
    "    #    \"city\": data[\"name\"],\n",
    "    #    \"temperature\": data[\"main\"][\"temp\"],\n",
    "    #    \"description\": data[\"weather\"][0][\"description\"],\n",
    "    #    \"humidity\": data[\"main\"][\"humidity\"]\n",
    "    #}\n",
    "    weather_info = {\n",
    "        \"city\": \"Thunder Bay\",\n",
    "        \"temperature\": -5.2,   # in Celsius\n",
    "        \"description\": \"snow\",\n",
    "        \"humidity\": 85         # in percentage\n",
    "    }   \n",
    "    return weather_info"
   ]
  },
  {
   "cell_type": "code",
   "execution_count": 40,
   "id": "72fafd1a",
   "metadata": {},
   "outputs": [
    {
     "name": "stdout",
     "output_type": "stream",
     "text": [
      "{'city': 'Thunder Bay', 'temperature': -5.2, 'description': 'snow', 'humidity': 85}\n"
     ]
    }
   ],
   "source": [
    "if tool_name == 'GetWeather':\n",
    "    weather_info = get_current_weather(tool_input)\n",
    "    print(weather_info)"
   ]
  },
  {
   "cell_type": "code",
   "execution_count": 41,
   "id": "0a3b593e",
   "metadata": {},
   "outputs": [
    {
     "name": "stdout",
     "output_type": "stream",
     "text": [
      "Thought:\n",
      "To find out the weather in Thunder Bay, Ontario, Canada today, I can use a weather-related API to get the current weather information for that location.\n",
      "\n",
      "Action:\n",
      "API Call to get the current weather in Thunder Bay, Ontario, Canada.\n",
      "\n",
      "Observation:\n",
      "The current weather information for Thunder Bay, Ontario, Canada is retrieved.\n",
      "\n",
      "Final Answer:\n",
      "I will provide the current weather in Thunder Bay, Ontario, Canada after using the weather API.\n",
      "\n",
      " Observation: {'city': 'Thunder Bay', 'temperature': -5.2, 'description': 'snow', 'humidity': 85}\n"
     ]
    }
   ],
   "source": [
    "updated_text = text + f\"\\n\\n Observation: {weather_info}\"\n",
    "print(updated_text)"
   ]
  },
  {
   "cell_type": "code",
   "execution_count": 42,
   "id": "76ee5681",
   "metadata": {},
   "outputs": [],
   "source": [
    "completion = client.chat.completions.create(\n",
    "    model=\"gpt-3.5-turbo\",\n",
    "    messages=[\n",
    "        {\"role\": \"system\", \"content\": system_prompt},\n",
    "        {\"role\": \"user\",\"content\": user_prompt},\n",
    "        {\"role\": \"assistant\",\"content\": text}, # This is the model's initial simulated response\n",
    "        {\"role\": \"user\",\"content\": updated_text} # This is where the 'Observation' is fed back\n",
    "    ]\n",
    ")"
   ]
  },
  {
   "cell_type": "code",
   "execution_count": 43,
   "id": "6b7de33a",
   "metadata": {},
   "outputs": [
    {
     "name": "stdout",
     "output_type": "stream",
     "text": [
      "Final Answer:\n",
      "The current weather in Thunder Bay, Ontario, Canada is as follows: \n",
      "- Temperature: -5.2°C\n",
      "- Description: Snow\n",
      "- Humidity: 85%\n"
     ]
    }
   ],
   "source": [
    "text2 = completion.choices[0].message.content\n",
    "print(text2)"
   ]
  },
  {
   "cell_type": "markdown",
   "id": "12847003",
   "metadata": {},
   "source": [
    "# **Anthropic**"
   ]
  },
  {
   "cell_type": "code",
   "execution_count": 45,
   "id": "333aca1a",
   "metadata": {},
   "outputs": [
    {
     "name": "stdout",
     "output_type": "stream",
     "text": [
      "Note: you may need to restart the kernel to use updated packages.\n"
     ]
    }
   ],
   "source": [
    "%pip install -q python-dotenv anthropic"
   ]
  },
  {
   "cell_type": "code",
   "execution_count": 46,
   "id": "0212534b",
   "metadata": {},
   "outputs": [
    {
     "data": {
      "text/plain": [
       "True"
      ]
     },
     "execution_count": 46,
     "metadata": {},
     "output_type": "execute_result"
    }
   ],
   "source": [
    "import dotenv\n",
    "dotenv.load_dotenv()"
   ]
  },
  {
   "cell_type": "code",
   "execution_count": null,
   "id": "2ddc77a7",
   "metadata": {},
   "outputs": [],
   "source": [
    "import anthropic\n",
    "\n",
    "client = anthropic.Anthropic()\n",
    "\n",
    "model_id = \"claude-3-5-sonnet-20241022\"\n",
    "\n",
    "messages=[{\n",
    "  \"role\": \"user\",\n",
    "  \"content\": \"Hello, Claude\",\n",
    "}]\n",
    "\n",
    "message = client.messages.create(\n",
    "    model=model_id,\n",
    "    max_tokens=1000,\n",
    "    temperature=0,\n",
    "    messages=messages\n",
    ")\n",
    "print(message.content)"
   ]
  },
  {
   "cell_type": "markdown",
   "id": "be06ed60",
   "metadata": {},
   "source": [
    "# **Cohere**"
   ]
  },
  {
   "cell_type": "code",
   "execution_count": 1,
   "id": "ad6286aa",
   "metadata": {},
   "outputs": [
    {
     "name": "stdout",
     "output_type": "stream",
     "text": [
      "Note: you may need to restart the kernel to use updated packages.\n"
     ]
    }
   ],
   "source": [
    "%pip install -q cohere python-dotenv\n"
   ]
  },
  {
   "cell_type": "code",
   "execution_count": 2,
   "id": "38041df8",
   "metadata": {},
   "outputs": [
    {
     "data": {
      "text/plain": [
       "True"
      ]
     },
     "execution_count": 2,
     "metadata": {},
     "output_type": "execute_result"
    }
   ],
   "source": [
    "import dotenv\n",
    "import os\n",
    "dotenv.load_dotenv()"
   ]
  },
  {
   "cell_type": "code",
   "execution_count": 3,
   "id": "b609b231",
   "metadata": {},
   "outputs": [
    {
     "name": "stdout",
     "output_type": "stream",
     "text": [
      "id='5c3123d6-174d-4e3b-859e-eaf3f25b3d27' finish_reason='COMPLETE' message=AssistantMessageResponse(role='assistant', tool_calls=None, tool_plan=None, content=[TextAssistantMessageResponseContentItem(type='text', text='Hello there! How can I help you today?')], citations=None) usage=Usage(billed_units=UsageBilledUnits(input_tokens=3.0, output_tokens=10.0, search_units=None, classifications=None), tokens=UsageTokens(input_tokens=204.0, output_tokens=10.0)) logprobs=None\n"
     ]
    }
   ],
   "source": [
    "import cohere\n",
    "co = cohere.ClientV2()\n",
    "response = co.chat(\n",
    "    model=\"command-r-plus-08-2024\",\n",
    "    messages=[{\"role\": \"user\", \"content\": \"hello world!\"}],\n",
    ")\n",
    "print(response)"
   ]
  }
 ],
 "metadata": {
  "kernelspec": {
   "display_name": "project1",
   "language": "python",
   "name": "python3"
  },
  "language_info": {
   "codemirror_mode": {
    "name": "ipython",
    "version": 3
   },
   "file_extension": ".py",
   "mimetype": "text/x-python",
   "name": "python",
   "nbconvert_exporter": "python",
   "pygments_lexer": "ipython3",
   "version": "3.13.5"
  }
 },
 "nbformat": 4,
 "nbformat_minor": 5
}
