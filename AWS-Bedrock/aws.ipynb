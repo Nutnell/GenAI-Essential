{
 "cells": [
  {
   "cell_type": "code",
   "execution_count": null,
   "id": "00fbadf4",
   "metadata": {},
   "outputs": [],
   "source": [
    "import boto3\n",
    "import os"
   ]
  },
  {
   "cell_type": "code",
   "execution_count": null,
   "id": "4bf600ba",
   "metadata": {},
   "outputs": [
    {
     "name": "stdout",
     "output_type": "stream",
     "text": [
      "An error occurred: An error occurred (UnrecognizedClientException) when calling the Converse operation: The security token included in the request is invalid.\n"
     ]
    }
   ],
   "source": [
    "client = boto3.client(\n",
    "    service_name='bedrock-runtime',\n",
    "    region_name=os.environ.get(\"AWS_REGION\", \"us-east-1\")\n",
    ")\n",
    "\n",
    "    {\n",
    "        'role': 'user',\n",
    "        'content': [{'text': 'Hello, Whats the weahter like, around here?'}]\n",
    "    }\n",
    "]\n",
    "\n",
    "system_prompts = [\n",
    "    {'text': \"You're correcting my english grammar and spelling mistakes.\"}\n",
    "]\n",
    "\n",
    "try:\n",
    "    response = client.converse(\n",
    "        modelId='amazon.nova-micro-v1:0',\n",
    "        messages=messages,\n",
    "        system=system_prompts,\n",
    "        inferenceConfig={\n",
    "            \"maxTokens\": 50,\n",
    "            \"temperature\": 0.4,\n",
    "            \"topP\": 1\n",
    "        }\n",
    "    )\n",
    "\n",
    "    print(response['output']['message']['content'][0]['text'])\n",
    "\n",
    "except Exception as e:\n",
    "    print(f\"An error occurred: {e}\")"
   ]
  },
  {
   "cell_type": "code",
   "execution_count": null,
   "id": "1f4021ef",
   "metadata": {},
   "outputs": [],
   "source": [
    "print(response)\n"
   ]
  }
 ],
 "metadata": {
  "kernelspec": {
   "display_name": "project1",
   "language": "python",
   "name": "python3"
  },
  "language_info": {
   "codemirror_mode": {
    "name": "ipython",
    "version": 3
   },
   "file_extension": ".py",
   "mimetype": "text/x-python",
   "name": "python",
   "nbconvert_exporter": "python",
   "pygments_lexer": "ipython3",
   "version": "3.13.5"
  }
 },
 "nbformat": 4,
 "nbformat_minor": 5
}
